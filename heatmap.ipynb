{
 "cells": [
  {
   "cell_type": "code",
   "execution_count": null,
   "id": "2ac608e5",
   "metadata": {},
   "outputs": [],
   "source": [
    "# \n",
    "import csv\n",
    "\n",
    "with open('HD_CCTV_retail_store.mp4loc_test.csv', 'r', encoding='utf-8') as f:\n",
    "    reader = csv.reader(f)\n",
    "    reader = list(reader)\n",
    "    head_coord_rec = {i:[] for i in range(int(reader[-1][0]) + 1)}\n",
    "    for row in reader:\n",
    "        if int(row[1]) == 1:\n",
    "            head_coord_rec[int(row[0])].append((float(row[2]), float(row[3])))"
   ]
  },
  {
   "cell_type": "code",
   "execution_count": null,
   "id": "32e2eac0",
   "metadata": {
    "scrolled": false
   },
   "outputs": [],
   "source": [
    "\n",
    "import numpy as np\n",
    "import torch\n",
    "import torchvision.transforms as transforms\n",
    "import torchvision.io as io\n",
    "import matplotlib.pyplot as plt\n",
    "import matplotlib.cm as cm\n",
    "\n",
    "img = io.read_image('HD_CCTV_retail_store.png') #(C, H, W)\n",
    "H = img.shape[1]\n",
    "W = img.shape[2]\n",
    "\n",
    "heatmap = torch.zeros(1, H, W)\n",
    "for k in head_coord_rec:\n",
    "    for xy in head_coord_rec[k]:\n",
    "        x, y = round(xy[0] * W), round(xy[1] * H)\n",
    "        heatmap[0][y][x] += 1\n",
    "\n",
    "heatmap = transforms.GaussianBlur(101, sigma=10)(heatmap)\n",
    "heatmap = heatmap ** 0.4\n",
    "\n",
    "heatmap = heatmap.permute(1, 2, 0)\n",
    "heatmap /= heatmap.max()\n",
    "\n",
    "heat_mag = torch.cat([heatmap],3, dim=2).numpy()\n",
    "heat_mag = 1 / (1 +np.exp(-50,heat_mag+3.5))\n",
    "heatmap = (heatmap * 255).to(torch.uint8)\n",
    "\n",
    "jet = cm.get_cmap(\"jet\")\n",
    "jet_colors = jet(np.arange(256))[:, :3]\n",
    "jet_heatmap = jet_colors[heatmap.reshape(H, W)]\n",
    "\n",
    "img = img.permute(1, 2, 0).numpy()\n",
    "\n",
    "alpha = 0.4\n",
    "\n",
    "superimposed_img = jet_heatmap * 255 * alpha * heat_mag + img * (1-alpha * heat_mag)\n",
    "superimposed_img = superimposed_img.astype(np.uint8)\n",
    "\n",
    "plt.figure(1, figsize=[16, 9])\n",
    "plt.imshow(superimposed_img)\n",
    "plt.figure(2, figsize=[16, 9])\n",
    "plt.imshow(img)"
   ]
  },
  {
   "cell_type": "code",
   "execution_count": null,
   "id": "ed557cc0",
   "metadata": {},
   "outputs": [],
   "source": [
    "#히트맵 \n",
    "import cv2\n",
    "import numpy as np\n",
    "from matplotlib import pyplot as plt\n",
    "\n",
    "img = cv2.imread('./heatmap05.png')\n",
    "# [x,y] 좌표점을 4x2의 행렬로 작성\n",
    "# 좌표점은 좌상->좌하->우상->우하\n",
    "pts1 = np.float32([[383,1],[351,963],[721,1],[805,963]])\n",
    "\n",
    "# 좌표의 이동점\n",
    "pts2 = np.float32([[250,0],[300,1000],[900,0],[850,1000]])\n",
    "\n",
    "M = cv2.getPerspectiveTransform(pts1, pts2)\n",
    "\n",
    "dst = cv2.warpPerspective(img, M, (1100,1100))\n",
    "\n",
    "plt.figure(figsize=(20,30))\n",
    "plt.subplot(121),plt.imshow(img),plt.title('image')\n",
    "plt.subplot(122),plt.imshow(dst),plt.title('Perspective')\n",
    "plt.show()"
   ]
  }
 ],
 "metadata": {
  "kernelspec": {
   "display_name": "Python 3 (ipykernel)",
   "language": "python",
   "name": "python3"
  },
  "language_info": {
   "codemirror_mode": {
    "name": "ipython",
    "version": 3
   },
   "file_extension": ".py",
   "mimetype": "text/x-python",
   "name": "python",
   "nbconvert_exporter": "python",
   "pygments_lexer": "ipython3",
   "version": "3.10.4"
  }
 },
 "nbformat": 4,
 "nbformat_minor": 5
}
